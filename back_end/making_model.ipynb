{
 "cells": [
  {
   "cell_type": "code",
   "execution_count": 1,
   "metadata": {},
   "outputs": [],
   "source": [
    "# This Python 3 environment comes with many helpful analytics libraries installed\n",
    "# It is defined by the kaggle/python docker image: https://github.com/kaggle/docker-python\n",
    "# For example, here's several helpful packages to load in \n",
    "\n",
    "import numpy as np # linear algebra\n",
    "import pandas as pd # data processing, CSV file I/O (e.g. pd.read_csv)\n",
    "\n",
    "import re\n",
    "import string\n",
    "from sklearn.feature_extraction.text import CountVectorizer, TfidfTransformer\n",
    "from sklearn.preprocessing import LabelEncoder\n",
    "from sklearn.linear_model import LogisticRegression\n",
    "from sklearn.model_selection import train_test_split, RandomizedSearchCV, GridSearchCV, StratifiedKFold\n",
    "from xgboost import XGBClassifier,plot_importance\n",
    "from sklearn.metrics import accuracy_score, roc_auc_score\n",
    "from sklearn.feature_selection import SelectFromModel\n",
    "from itertools import compress\n",
    "\n",
    "\n",
    "from pylab import rcParams\n",
    "import seaborn as sns\n",
    "import matplotlib.pyplot as plt\n",
    "#from scipy.misc import imread\n",
    "from wordcloud import WordCloud, STOPWORDS\n",
    "\n",
    "# Input data files are available in the \"../input/\" directory.\n",
    "# For example, running this (by clicking run or pressing Shift+Enter) will list the files in the input directory\n",
    "\n",
    "import os\n",
    "\n",
    "# Any results you write to the current directory are saved as output.\n",
    "\n",
    "import pickle"
   ]
  },
  {
   "cell_type": "code",
   "execution_count": 2,
   "metadata": {},
   "outputs": [],
   "source": [
    "df = pd.read_csv('./dataset/mbti_1.csv')"
   ]
  },
  {
   "cell_type": "code",
   "execution_count": 3,
   "metadata": {},
   "outputs": [
    {
     "data": {
      "text/html": [
       "<div>\n",
       "<style scoped>\n",
       "    .dataframe tbody tr th:only-of-type {\n",
       "        vertical-align: middle;\n",
       "    }\n",
       "\n",
       "    .dataframe tbody tr th {\n",
       "        vertical-align: top;\n",
       "    }\n",
       "\n",
       "    .dataframe thead th {\n",
       "        text-align: right;\n",
       "    }\n",
       "</style>\n",
       "<table border=\"1\" class=\"dataframe\">\n",
       "  <thead>\n",
       "    <tr style=\"text-align: right;\">\n",
       "      <th></th>\n",
       "      <th>type</th>\n",
       "      <th>posts</th>\n",
       "    </tr>\n",
       "  </thead>\n",
       "  <tbody>\n",
       "    <tr>\n",
       "      <th>0</th>\n",
       "      <td>INFJ</td>\n",
       "      <td>'http://www.youtube.com/watch?v=qsXHcwe3krw|||...</td>\n",
       "    </tr>\n",
       "    <tr>\n",
       "      <th>1</th>\n",
       "      <td>ENTP</td>\n",
       "      <td>'I'm finding the lack of me in these posts ver...</td>\n",
       "    </tr>\n",
       "    <tr>\n",
       "      <th>2</th>\n",
       "      <td>INTP</td>\n",
       "      <td>'Good one  _____   https://www.youtube.com/wat...</td>\n",
       "    </tr>\n",
       "    <tr>\n",
       "      <th>3</th>\n",
       "      <td>INTJ</td>\n",
       "      <td>'Dear INTP,   I enjoyed our conversation the o...</td>\n",
       "    </tr>\n",
       "    <tr>\n",
       "      <th>4</th>\n",
       "      <td>ENTJ</td>\n",
       "      <td>'You're fired.|||That's another silly misconce...</td>\n",
       "    </tr>\n",
       "  </tbody>\n",
       "</table>\n",
       "</div>"
      ],
      "text/plain": [
       "   type                                              posts\n",
       "0  INFJ  'http://www.youtube.com/watch?v=qsXHcwe3krw|||...\n",
       "1  ENTP  'I'm finding the lack of me in these posts ver...\n",
       "2  INTP  'Good one  _____   https://www.youtube.com/wat...\n",
       "3  INTJ  'Dear INTP,   I enjoyed our conversation the o...\n",
       "4  ENTJ  'You're fired.|||That's another silly misconce..."
      ]
     },
     "execution_count": 3,
     "metadata": {},
     "output_type": "execute_result"
    }
   ],
   "source": [
    "df.head()"
   ]
  },
  {
   "cell_type": "code",
   "execution_count": 4,
   "metadata": {},
   "outputs": [
    {
     "data": {
      "text/plain": [
       "INFP    1832\n",
       "INFJ    1470\n",
       "INTP    1304\n",
       "INTJ    1091\n",
       "ENTP     685\n",
       "ENFP     675\n",
       "ISTP     337\n",
       "ISFP     271\n",
       "ENTJ     231\n",
       "ISTJ     205\n",
       "ENFJ     190\n",
       "ISFJ     166\n",
       "ESTP      89\n",
       "ESFP      48\n",
       "ESFJ      42\n",
       "ESTJ      39\n",
       "Name: type, dtype: int64"
      ]
     },
     "execution_count": 4,
     "metadata": {},
     "output_type": "execute_result"
    }
   ],
   "source": [
    "dist = df['type'].value_counts()\n",
    "dist"
   ]
  },
  {
   "cell_type": "code",
   "execution_count": 5,
   "metadata": {},
   "outputs": [
    {
     "data": {
      "text/plain": [
       "Index(['INFP', 'INFJ', 'INTP', 'INTJ', 'ENTP', 'ENFP', 'ISTP', 'ISFP', 'ENTJ',\n",
       "       'ISTJ', 'ENFJ', 'ISFJ', 'ESTP', 'ESFP', 'ESFJ', 'ESTJ'],\n",
       "      dtype='object')"
      ]
     },
     "execution_count": 5,
     "metadata": {},
     "output_type": "execute_result"
    }
   ],
   "source": [
    "dist.index"
   ]
  },
  {
   "cell_type": "code",
   "execution_count": 6,
   "metadata": {
    "scrolled": true
   },
   "outputs": [
    {
     "data": {
      "text/html": [
       "<div>\n",
       "<style scoped>\n",
       "    .dataframe tbody tr th:only-of-type {\n",
       "        vertical-align: middle;\n",
       "    }\n",
       "\n",
       "    .dataframe tbody tr th {\n",
       "        vertical-align: top;\n",
       "    }\n",
       "\n",
       "    .dataframe thead th {\n",
       "        text-align: right;\n",
       "    }\n",
       "</style>\n",
       "<table border=\"1\" class=\"dataframe\">\n",
       "  <thead>\n",
       "    <tr style=\"text-align: right;\">\n",
       "      <th></th>\n",
       "      <th>type</th>\n",
       "      <th>posts</th>\n",
       "      <th>seperated_post</th>\n",
       "      <th>num_post</th>\n",
       "    </tr>\n",
       "  </thead>\n",
       "  <tbody>\n",
       "    <tr>\n",
       "      <th>0</th>\n",
       "      <td>INFJ</td>\n",
       "      <td>'http://www.youtube.com/watch?v=qsXHcwe3krw|||...</td>\n",
       "      <td>['http://www.youtube.com/watch?v=qsXHcwe3krw, ...</td>\n",
       "      <td>50</td>\n",
       "    </tr>\n",
       "    <tr>\n",
       "      <th>1</th>\n",
       "      <td>ENTP</td>\n",
       "      <td>'I'm finding the lack of me in these posts ver...</td>\n",
       "      <td>['I'm finding the lack of me in these posts ve...</td>\n",
       "      <td>50</td>\n",
       "    </tr>\n",
       "    <tr>\n",
       "      <th>2</th>\n",
       "      <td>INTP</td>\n",
       "      <td>'Good one  _____   https://www.youtube.com/wat...</td>\n",
       "      <td>['Good one  _____   https://www.youtube.com/wa...</td>\n",
       "      <td>50</td>\n",
       "    </tr>\n",
       "    <tr>\n",
       "      <th>3</th>\n",
       "      <td>INTJ</td>\n",
       "      <td>'Dear INTP,   I enjoyed our conversation the o...</td>\n",
       "      <td>['Dear INTP,   I enjoyed our conversation the ...</td>\n",
       "      <td>50</td>\n",
       "    </tr>\n",
       "    <tr>\n",
       "      <th>4</th>\n",
       "      <td>ENTJ</td>\n",
       "      <td>'You're fired.|||That's another silly misconce...</td>\n",
       "      <td>['You're fired., That's another silly misconce...</td>\n",
       "      <td>50</td>\n",
       "    </tr>\n",
       "  </tbody>\n",
       "</table>\n",
       "</div>"
      ],
      "text/plain": [
       "   type                                              posts  \\\n",
       "0  INFJ  'http://www.youtube.com/watch?v=qsXHcwe3krw|||...   \n",
       "1  ENTP  'I'm finding the lack of me in these posts ver...   \n",
       "2  INTP  'Good one  _____   https://www.youtube.com/wat...   \n",
       "3  INTJ  'Dear INTP,   I enjoyed our conversation the o...   \n",
       "4  ENTJ  'You're fired.|||That's another silly misconce...   \n",
       "\n",
       "                                      seperated_post  num_post  \n",
       "0  ['http://www.youtube.com/watch?v=qsXHcwe3krw, ...        50  \n",
       "1  ['I'm finding the lack of me in these posts ve...        50  \n",
       "2  ['Good one  _____   https://www.youtube.com/wa...        50  \n",
       "3  ['Dear INTP,   I enjoyed our conversation the ...        50  \n",
       "4  ['You're fired., That's another silly misconce...        50  "
      ]
     },
     "execution_count": 6,
     "metadata": {},
     "output_type": "execute_result"
    }
   ],
   "source": [
    "df['seperated_post'] = df['posts'].apply(lambda x: x.strip().split(\"|||\"))\n",
    "df['num_post'] = df['seperated_post'].apply(lambda x: len(x))\n",
    "df.head()"
   ]
  },
  {
   "cell_type": "code",
   "execution_count": 7,
   "metadata": {},
   "outputs": [
    {
     "data": {
      "text/plain": [
       "Text(0, 0.5, 'Number of posts')"
      ]
     },
     "execution_count": 7,
     "metadata": {},
     "output_type": "execute_result"
    },
    {
     "data": {
      "image/png": "[encoded data removed]",
      "text/plain": [
       "<Figure size 720x360 with 1 Axes>"
      ]
     },
     "metadata": {
      "needs_background": "light"
     },
     "output_type": "display_data"
    }
   ],
   "source": [
    "num_post_df = df.groupby('type')['num_post'].apply(list).reset_index()\n",
    "rcParams['figure.figsize'] = 10,5\n",
    "sns.violinplot(x='type',y='num_post',data=df)\n",
    "plt.xlabel('')\n",
    "plt.ylabel('Number of posts')"
   ]
  },
  {
   "cell_type": "code",
   "execution_count": 8,
   "metadata": {},
   "outputs": [
    {
     "data": {
      "text/html": [
       "<div>\n",
       "<style scoped>\n",
       "    .dataframe tbody tr th:only-of-type {\n",
       "        vertical-align: middle;\n",
       "    }\n",
       "\n",
       "    .dataframe tbody tr th {\n",
       "        vertical-align: top;\n",
       "    }\n",
       "\n",
       "    .dataframe thead th {\n",
       "        text-align: right;\n",
       "    }\n",
       "</style>\n",
       "<table border=\"1\" class=\"dataframe\">\n",
       "  <thead>\n",
       "    <tr style=\"text-align: right;\">\n",
       "      <th></th>\n",
       "      <th>type</th>\n",
       "      <th>posts</th>\n",
       "      <th>seperated_post</th>\n",
       "      <th>num_post</th>\n",
       "      <th>youtube</th>\n",
       "    </tr>\n",
       "  </thead>\n",
       "  <tbody>\n",
       "    <tr>\n",
       "      <th>0</th>\n",
       "      <td>INFJ</td>\n",
       "      <td>'http://www.youtube.com/watch?v=qsXHcwe3krw|||...</td>\n",
       "      <td>['http://www.youtube.com/watch?v=qsXHcwe3krw, ...</td>\n",
       "      <td>50</td>\n",
       "      <td>14</td>\n",
       "    </tr>\n",
       "    <tr>\n",
       "      <th>1</th>\n",
       "      <td>ENTP</td>\n",
       "      <td>'I'm finding the lack of me in these posts ver...</td>\n",
       "      <td>['I'm finding the lack of me in these posts ve...</td>\n",
       "      <td>50</td>\n",
       "      <td>1</td>\n",
       "    </tr>\n",
       "    <tr>\n",
       "      <th>2</th>\n",
       "      <td>INTP</td>\n",
       "      <td>'Good one  _____   https://www.youtube.com/wat...</td>\n",
       "      <td>['Good one  _____   https://www.youtube.com/wa...</td>\n",
       "      <td>50</td>\n",
       "      <td>3</td>\n",
       "    </tr>\n",
       "    <tr>\n",
       "      <th>3</th>\n",
       "      <td>INTJ</td>\n",
       "      <td>'Dear INTP,   I enjoyed our conversation the o...</td>\n",
       "      <td>['Dear INTP,   I enjoyed our conversation the ...</td>\n",
       "      <td>50</td>\n",
       "      <td>2</td>\n",
       "    </tr>\n",
       "    <tr>\n",
       "      <th>4</th>\n",
       "      <td>ENTJ</td>\n",
       "      <td>'You're fired.|||That's another silly misconce...</td>\n",
       "      <td>['You're fired., That's another silly misconce...</td>\n",
       "      <td>50</td>\n",
       "      <td>1</td>\n",
       "    </tr>\n",
       "  </tbody>\n",
       "</table>\n",
       "</div>"
      ],
      "text/plain": [
       "   type                                              posts  \\\n",
       "0  INFJ  'http://www.youtube.com/watch?v=qsXHcwe3krw|||...   \n",
       "1  ENTP  'I'm finding the lack of me in these posts ver...   \n",
       "2  INTP  'Good one  _____   https://www.youtube.com/wat...   \n",
       "3  INTJ  'Dear INTP,   I enjoyed our conversation the o...   \n",
       "4  ENTJ  'You're fired.|||That's another silly misconce...   \n",
       "\n",
       "                                      seperated_post  num_post  youtube  \n",
       "0  ['http://www.youtube.com/watch?v=qsXHcwe3krw, ...        50       14  \n",
       "1  ['I'm finding the lack of me in these posts ve...        50        1  \n",
       "2  ['Good one  _____   https://www.youtube.com/wa...        50        3  \n",
       "3  ['Dear INTP,   I enjoyed our conversation the ...        50        2  \n",
       "4  ['You're fired., That's another silly misconce...        50        1  "
      ]
     },
     "execution_count": 8,
     "metadata": {},
     "output_type": "execute_result"
    }
   ],
   "source": [
    "def count_youtube(posts):\n",
    "    count = 0\n",
    "    for p in posts:\n",
    "        if 'youtube' in p:\n",
    "            count += 1\n",
    "    return count\n",
    "        \n",
    "df['youtube'] = df['seperated_post'].apply(count_youtube)\n",
    "df.head()"
   ]
  },
  {
   "cell_type": "code",
   "execution_count": 9,
   "metadata": {},
   "outputs": [
    {
     "data": {
      "text/plain": [
       "8675"
      ]
     },
     "execution_count": 9,
     "metadata": {},
     "output_type": "execute_result"
    }
   ],
   "source": [
    "df['id']=df.index\n",
    "len(df)"
   ]
  },
  {
   "cell_type": "code",
   "execution_count": 10,
   "metadata": {},
   "outputs": [
    {
     "data": {
      "text/html": [
       "<div>\n",
       "<style scoped>\n",
       "    .dataframe tbody tr th:only-of-type {\n",
       "        vertical-align: middle;\n",
       "    }\n",
       "\n",
       "    .dataframe tbody tr th {\n",
       "        vertical-align: top;\n",
       "    }\n",
       "\n",
       "    .dataframe thead th {\n",
       "        text-align: right;\n",
       "    }\n",
       "</style>\n",
       "<table border=\"1\" class=\"dataframe\">\n",
       "  <thead>\n",
       "    <tr style=\"text-align: right;\">\n",
       "      <th></th>\n",
       "      <th>id</th>\n",
       "      <th>idposts</th>\n",
       "    </tr>\n",
       "  </thead>\n",
       "  <tbody>\n",
       "    <tr>\n",
       "      <th>0</th>\n",
       "      <td>0</td>\n",
       "      <td>'http://www.youtube.com/watch?v=qsXHcwe3krw</td>\n",
       "    </tr>\n",
       "    <tr>\n",
       "      <th>1</th>\n",
       "      <td>0</td>\n",
       "      <td>http://41.media.tumblr.com/tumblr_lfouy03PMA1q...</td>\n",
       "    </tr>\n",
       "    <tr>\n",
       "      <th>2</th>\n",
       "      <td>0</td>\n",
       "      <td>enfp and intj moments  https://www.youtube.com...</td>\n",
       "    </tr>\n",
       "    <tr>\n",
       "      <th>3</th>\n",
       "      <td>0</td>\n",
       "      <td>What has been the most life-changing experienc...</td>\n",
       "    </tr>\n",
       "    <tr>\n",
       "      <th>4</th>\n",
       "      <td>0</td>\n",
       "      <td>http://www.youtube.com/watch?v=vXZeYwwRDw8   h...</td>\n",
       "    </tr>\n",
       "  </tbody>\n",
       "</table>\n",
       "</div>"
      ],
      "text/plain": [
       "   id                                            idposts\n",
       "0   0        'http://www.youtube.com/watch?v=qsXHcwe3krw\n",
       "1   0  http://41.media.tumblr.com/tumblr_lfouy03PMA1q...\n",
       "2   0  enfp and intj moments  https://www.youtube.com...\n",
       "3   0  What has been the most life-changing experienc...\n",
       "4   0  http://www.youtube.com/watch?v=vXZeYwwRDw8   h..."
      ]
     },
     "execution_count": 10,
     "metadata": {},
     "output_type": "execute_result"
    }
   ],
   "source": [
    "expanded_df = pd.DataFrame(df['seperated_post'].tolist(), index=df['id']).stack().reset_index(level=1, drop=True).reset_index(name='idposts')\n",
    "expanded_df.head()"
   ]
  },
  {
   "cell_type": "code",
   "execution_count": 11,
   "metadata": {},
   "outputs": [],
   "source": [
    "def clean_text(text):\n",
    "    result = re.sub(r'http[^\\s]*', '',text)\n",
    "    result = re.sub('[0-9]+','', result).lower()\n",
    "    result = re.sub('@[a-z0-9]+', 'user', result)\n",
    "    return re.sub('[%s]*' % string.punctuation, '',result)"
   ]
  },
  {
   "cell_type": "code",
   "execution_count": 12,
   "metadata": {},
   "outputs": [
    {
     "data": {
      "text/html": [
       "<div>\n",
       "<style scoped>\n",
       "    .dataframe tbody tr th:only-of-type {\n",
       "        vertical-align: middle;\n",
       "    }\n",
       "\n",
       "    .dataframe tbody tr th {\n",
       "        vertical-align: top;\n",
       "    }\n",
       "\n",
       "    .dataframe thead th {\n",
       "        text-align: right;\n",
       "    }\n",
       "</style>\n",
       "<table border=\"1\" class=\"dataframe\">\n",
       "  <thead>\n",
       "    <tr style=\"text-align: right;\">\n",
       "      <th></th>\n",
       "      <th>id</th>\n",
       "      <th>idposts</th>\n",
       "    </tr>\n",
       "  </thead>\n",
       "  <tbody>\n",
       "    <tr>\n",
       "      <th>0</th>\n",
       "      <td>0</td>\n",
       "      <td></td>\n",
       "    </tr>\n",
       "    <tr>\n",
       "      <th>1</th>\n",
       "      <td>0</td>\n",
       "      <td></td>\n",
       "    </tr>\n",
       "    <tr>\n",
       "      <th>2</th>\n",
       "      <td>0</td>\n",
       "      <td>enfp and intj moments    sportscenter not top ...</td>\n",
       "    </tr>\n",
       "    <tr>\n",
       "      <th>3</th>\n",
       "      <td>0</td>\n",
       "      <td>what has been the most lifechanging experience...</td>\n",
       "    </tr>\n",
       "    <tr>\n",
       "      <th>4</th>\n",
       "      <td>0</td>\n",
       "      <td>on repeat for most of today</td>\n",
       "    </tr>\n",
       "  </tbody>\n",
       "</table>\n",
       "</div>"
      ],
      "text/plain": [
       "   id                                            idposts\n",
       "0   0                                                   \n",
       "1   0                                                   \n",
       "2   0  enfp and intj moments    sportscenter not top ...\n",
       "3   0  what has been the most lifechanging experience...\n",
       "4   0                        on repeat for most of today"
      ]
     },
     "execution_count": 12,
     "metadata": {},
     "output_type": "execute_result"
    }
   ],
   "source": [
    "final_df = expanded_df.copy()\n",
    "final_df['idposts'] = final_df['idposts'].apply(clean_text)\n",
    "final_df.head()"
   ]
  },
  {
   "cell_type": "code",
   "execution_count": 13,
   "metadata": {},
   "outputs": [
    {
     "data": {
      "text/html": [
       "<div>\n",
       "<style scoped>\n",
       "    .dataframe tbody tr th:only-of-type {\n",
       "        vertical-align: middle;\n",
       "    }\n",
       "\n",
       "    .dataframe tbody tr th {\n",
       "        vertical-align: top;\n",
       "    }\n",
       "\n",
       "    .dataframe thead th {\n",
       "        text-align: right;\n",
       "    }\n",
       "</style>\n",
       "<table border=\"1\" class=\"dataframe\">\n",
       "  <thead>\n",
       "    <tr style=\"text-align: right;\">\n",
       "      <th></th>\n",
       "      <th>id</th>\n",
       "      <th>idposts</th>\n",
       "    </tr>\n",
       "  </thead>\n",
       "  <tbody>\n",
       "    <tr>\n",
       "      <th>0</th>\n",
       "      <td>0</td>\n",
       "      <td>[, , enfp and intj moments    sportscenter not...</td>\n",
       "    </tr>\n",
       "    <tr>\n",
       "      <th>1</th>\n",
       "      <td>1</td>\n",
       "      <td>[im finding the lack of me in these posts very...</td>\n",
       "    </tr>\n",
       "    <tr>\n",
       "      <th>2</th>\n",
       "      <td>2</td>\n",
       "      <td>[good one     , of course to which i say i kno...</td>\n",
       "    </tr>\n",
       "    <tr>\n",
       "      <th>3</th>\n",
       "      <td>3</td>\n",
       "      <td>[dear intp   i enjoyed our conversation the ot...</td>\n",
       "    </tr>\n",
       "    <tr>\n",
       "      <th>4</th>\n",
       "      <td>4</td>\n",
       "      <td>[youre fired, thats another silly misconceptio...</td>\n",
       "    </tr>\n",
       "  </tbody>\n",
       "</table>\n",
       "</div>"
      ],
      "text/plain": [
       "   id                                            idposts\n",
       "0   0  [, , enfp and intj moments    sportscenter not...\n",
       "1   1  [im finding the lack of me in these posts very...\n",
       "2   2  [good one     , of course to which i say i kno...\n",
       "3   3  [dear intp   i enjoyed our conversation the ot...\n",
       "4   4  [youre fired, thats another silly misconceptio..."
      ]
     },
     "execution_count": 13,
     "metadata": {},
     "output_type": "execute_result"
    }
   ],
   "source": [
    "cleaned_df = final_df.groupby('id')['idposts'].apply(list).reset_index()\n",
    "cleaned_df.head()"
   ]
  },
  {
   "cell_type": "code",
   "execution_count": 14,
   "metadata": {},
   "outputs": [
    {
     "data": {
      "text/html": [
       "<div>\n",
       "<style scoped>\n",
       "    .dataframe tbody tr th:only-of-type {\n",
       "        vertical-align: middle;\n",
       "    }\n",
       "\n",
       "    .dataframe tbody tr th {\n",
       "        vertical-align: top;\n",
       "    }\n",
       "\n",
       "    .dataframe thead th {\n",
       "        text-align: right;\n",
       "    }\n",
       "</style>\n",
       "<table border=\"1\" class=\"dataframe\">\n",
       "  <thead>\n",
       "    <tr style=\"text-align: right;\">\n",
       "      <th></th>\n",
       "      <th>type</th>\n",
       "      <th>posts</th>\n",
       "      <th>seperated_post</th>\n",
       "      <th>num_post</th>\n",
       "      <th>youtube</th>\n",
       "      <th>id</th>\n",
       "      <th>clean_post</th>\n",
       "    </tr>\n",
       "  </thead>\n",
       "  <tbody>\n",
       "    <tr>\n",
       "      <th>0</th>\n",
       "      <td>INFJ</td>\n",
       "      <td>'http://www.youtube.com/watch?v=qsXHcwe3krw|||...</td>\n",
       "      <td>['http://www.youtube.com/watch?v=qsXHcwe3krw, ...</td>\n",
       "      <td>50</td>\n",
       "      <td>14</td>\n",
       "      <td>0</td>\n",
       "      <td>enfp and intj moments    sportscenter not to...</td>\n",
       "    </tr>\n",
       "    <tr>\n",
       "      <th>1</th>\n",
       "      <td>ENTP</td>\n",
       "      <td>'I'm finding the lack of me in these posts ver...</td>\n",
       "      <td>['I'm finding the lack of me in these posts ve...</td>\n",
       "      <td>50</td>\n",
       "      <td>1</td>\n",
       "      <td>1</td>\n",
       "      <td>im finding the lack of me in these posts very ...</td>\n",
       "    </tr>\n",
       "    <tr>\n",
       "      <th>2</th>\n",
       "      <td>INTP</td>\n",
       "      <td>'Good one  _____   https://www.youtube.com/wat...</td>\n",
       "      <td>['Good one  _____   https://www.youtube.com/wa...</td>\n",
       "      <td>50</td>\n",
       "      <td>3</td>\n",
       "      <td>2</td>\n",
       "      <td>good one      of course to which i say i know ...</td>\n",
       "    </tr>\n",
       "    <tr>\n",
       "      <th>3</th>\n",
       "      <td>INTJ</td>\n",
       "      <td>'Dear INTP,   I enjoyed our conversation the o...</td>\n",
       "      <td>['Dear INTP,   I enjoyed our conversation the ...</td>\n",
       "      <td>50</td>\n",
       "      <td>2</td>\n",
       "      <td>3</td>\n",
       "      <td>dear intp   i enjoyed our conversation the oth...</td>\n",
       "    </tr>\n",
       "    <tr>\n",
       "      <th>4</th>\n",
       "      <td>ENTJ</td>\n",
       "      <td>'You're fired.|||That's another silly misconce...</td>\n",
       "      <td>['You're fired., That's another silly misconce...</td>\n",
       "      <td>50</td>\n",
       "      <td>1</td>\n",
       "      <td>4</td>\n",
       "      <td>youre fired thats another silly misconception ...</td>\n",
       "    </tr>\n",
       "  </tbody>\n",
       "</table>\n",
       "</div>"
      ],
      "text/plain": [
       "   type                                              posts  \\\n",
       "0  INFJ  'http://www.youtube.com/watch?v=qsXHcwe3krw|||...   \n",
       "1  ENTP  'I'm finding the lack of me in these posts ver...   \n",
       "2  INTP  'Good one  _____   https://www.youtube.com/wat...   \n",
       "3  INTJ  'Dear INTP,   I enjoyed our conversation the o...   \n",
       "4  ENTJ  'You're fired.|||That's another silly misconce...   \n",
       "\n",
       "                                      seperated_post  num_post  youtube  id  \\\n",
       "0  ['http://www.youtube.com/watch?v=qsXHcwe3krw, ...        50       14   0   \n",
       "1  ['I'm finding the lack of me in these posts ve...        50        1   1   \n",
       "2  ['Good one  _____   https://www.youtube.com/wa...        50        3   2   \n",
       "3  ['Dear INTP,   I enjoyed our conversation the ...        50        2   3   \n",
       "4  ['You're fired., That's another silly misconce...        50        1   4   \n",
       "\n",
       "                                          clean_post  \n",
       "0    enfp and intj moments    sportscenter not to...  \n",
       "1  im finding the lack of me in these posts very ...  \n",
       "2  good one      of course to which i say i know ...  \n",
       "3  dear intp   i enjoyed our conversation the oth...  \n",
       "4  youre fired thats another silly misconception ...  "
      ]
     },
     "execution_count": 14,
     "metadata": {},
     "output_type": "execute_result"
    }
   ],
   "source": [
    "df['clean_post'] = cleaned_df['idposts'].apply(lambda x: ' '.join(x))\n",
    "df.head()"
   ]
  },
  {
   "cell_type": "code",
   "execution_count": 15,
   "metadata": {},
   "outputs": [],
   "source": [
    "remove_words=['and','the','to','of','ni','se','ne','si','ti','then','lol','he','youre','haha','him','lot',\n",
    "'usually','break','sometimes','their','oh','female','male','take','type','those','others','pretty','over',\n",
    "'infj','entp','intp','intj','xd','also','yeah','got','years','thats','entj','hey','many','always','she','her',\n",
    "'entj','enfj','infp','enfp','didnt','shit','fi',\n",
    "'isfp','istp','isfj','istj',\n",
    "'estp','esfp','estj','esfj',\n",
    "'infjs','entps','intps','intjs',\n",
    "'entjs','enfjs','infps','enfps',\n",
    "'isfps','istps','isfjs','istjs',\n",
    "'estps','esfps','estjs','esfjs']\n",
    "vectorizer = CountVectorizer(stop_words = remove_words,\n",
    "                            max_features=1500,\n",
    "                            analyzer=\"word\",\n",
    "                            max_df=0.8,\n",
    "                            min_df=0.1)"
   ]
  },
  {
   "cell_type": "code",
   "execution_count": 16,
   "metadata": {},
   "outputs": [
    {
     "data": {
      "text/plain": [
       "<8675x832 sparse matrix of type '<class 'numpy.int64'>'\n",
       "\twith 1820134 stored elements in Compressed Sparse Row format>"
      ]
     },
     "execution_count": 16,
     "metadata": {},
     "output_type": "execute_result"
    }
   ],
   "source": [
    "corpus = df['clean_post'].values.reshape(1,-1).tolist()[0]\n",
    "vectorizer.fit(corpus)\n",
    "X_cnt = vectorizer.fit_transform(corpus)\n",
    "X_cnt"
   ]
  },
  {
   "cell_type": "code",
   "execution_count": 17,
   "metadata": {},
   "outputs": [
    {
     "data": {
      "text/plain": [
       "(8675, 832)"
      ]
     },
     "execution_count": 17,
     "metadata": {},
     "output_type": "execute_result"
    }
   ],
   "source": [
    "tfizer = TfidfTransformer()\n",
    "tfizer.fit(X_cnt)\n",
    "X = tfizer.fit_transform(X_cnt).toarray()\n",
    "X.shape"
   ]
  },
  {
   "cell_type": "code",
   "execution_count": 18,
   "metadata": {},
   "outputs": [
    {
     "data": {
      "text/html": [
       "<div>\n",
       "<style scoped>\n",
       "    .dataframe tbody tr th:only-of-type {\n",
       "        vertical-align: middle;\n",
       "    }\n",
       "\n",
       "    .dataframe tbody tr th {\n",
       "        vertical-align: top;\n",
       "    }\n",
       "\n",
       "    .dataframe thead th {\n",
       "        text-align: right;\n",
       "    }\n",
       "</style>\n",
       "<table border=\"1\" class=\"dataframe\">\n",
       "  <thead>\n",
       "    <tr style=\"text-align: right;\">\n",
       "      <th></th>\n",
       "      <th>type</th>\n",
       "      <th>posts</th>\n",
       "      <th>seperated_post</th>\n",
       "      <th>num_post</th>\n",
       "      <th>youtube</th>\n",
       "      <th>id</th>\n",
       "      <th>clean_post</th>\n",
       "      <th>fav_world</th>\n",
       "      <th>info</th>\n",
       "      <th>decision</th>\n",
       "      <th>structure</th>\n",
       "      <th>r_fav_world</th>\n",
       "      <th>r_info</th>\n",
       "      <th>r_decision</th>\n",
       "      <th>r_structure</th>\n",
       "    </tr>\n",
       "  </thead>\n",
       "  <tbody>\n",
       "    <tr>\n",
       "      <th>0</th>\n",
       "      <td>INFJ</td>\n",
       "      <td>'http://www.youtube.com/watch?v=qsXHcwe3krw|||...</td>\n",
       "      <td>['http://www.youtube.com/watch?v=qsXHcwe3krw, ...</td>\n",
       "      <td>50</td>\n",
       "      <td>14</td>\n",
       "      <td>0</td>\n",
       "      <td>enfp and intj moments    sportscenter not to...</td>\n",
       "      <td>0</td>\n",
       "      <td>0</td>\n",
       "      <td>0</td>\n",
       "      <td>1</td>\n",
       "      <td>1</td>\n",
       "      <td>1</td>\n",
       "      <td>1</td>\n",
       "      <td>0</td>\n",
       "    </tr>\n",
       "    <tr>\n",
       "      <th>1</th>\n",
       "      <td>ENTP</td>\n",
       "      <td>'I'm finding the lack of me in these posts ver...</td>\n",
       "      <td>['I'm finding the lack of me in these posts ve...</td>\n",
       "      <td>50</td>\n",
       "      <td>1</td>\n",
       "      <td>1</td>\n",
       "      <td>im finding the lack of me in these posts very ...</td>\n",
       "      <td>1</td>\n",
       "      <td>0</td>\n",
       "      <td>1</td>\n",
       "      <td>0</td>\n",
       "      <td>0</td>\n",
       "      <td>1</td>\n",
       "      <td>0</td>\n",
       "      <td>1</td>\n",
       "    </tr>\n",
       "    <tr>\n",
       "      <th>2</th>\n",
       "      <td>INTP</td>\n",
       "      <td>'Good one  _____   https://www.youtube.com/wat...</td>\n",
       "      <td>['Good one  _____   https://www.youtube.com/wa...</td>\n",
       "      <td>50</td>\n",
       "      <td>3</td>\n",
       "      <td>2</td>\n",
       "      <td>good one      of course to which i say i know ...</td>\n",
       "      <td>0</td>\n",
       "      <td>0</td>\n",
       "      <td>1</td>\n",
       "      <td>0</td>\n",
       "      <td>1</td>\n",
       "      <td>1</td>\n",
       "      <td>0</td>\n",
       "      <td>1</td>\n",
       "    </tr>\n",
       "    <tr>\n",
       "      <th>3</th>\n",
       "      <td>INTJ</td>\n",
       "      <td>'Dear INTP,   I enjoyed our conversation the o...</td>\n",
       "      <td>['Dear INTP,   I enjoyed our conversation the ...</td>\n",
       "      <td>50</td>\n",
       "      <td>2</td>\n",
       "      <td>3</td>\n",
       "      <td>dear intp   i enjoyed our conversation the oth...</td>\n",
       "      <td>0</td>\n",
       "      <td>0</td>\n",
       "      <td>1</td>\n",
       "      <td>1</td>\n",
       "      <td>1</td>\n",
       "      <td>1</td>\n",
       "      <td>0</td>\n",
       "      <td>0</td>\n",
       "    </tr>\n",
       "    <tr>\n",
       "      <th>4</th>\n",
       "      <td>ENTJ</td>\n",
       "      <td>'You're fired.|||That's another silly misconce...</td>\n",
       "      <td>['You're fired., That's another silly misconce...</td>\n",
       "      <td>50</td>\n",
       "      <td>1</td>\n",
       "      <td>4</td>\n",
       "      <td>youre fired thats another silly misconception ...</td>\n",
       "      <td>1</td>\n",
       "      <td>0</td>\n",
       "      <td>1</td>\n",
       "      <td>1</td>\n",
       "      <td>0</td>\n",
       "      <td>1</td>\n",
       "      <td>0</td>\n",
       "      <td>0</td>\n",
       "    </tr>\n",
       "  </tbody>\n",
       "</table>\n",
       "</div>"
      ],
      "text/plain": [
       "   type                                              posts  \\\n",
       "0  INFJ  'http://www.youtube.com/watch?v=qsXHcwe3krw|||...   \n",
       "1  ENTP  'I'm finding the lack of me in these posts ver...   \n",
       "2  INTP  'Good one  _____   https://www.youtube.com/wat...   \n",
       "3  INTJ  'Dear INTP,   I enjoyed our conversation the o...   \n",
       "4  ENTJ  'You're fired.|||That's another silly misconce...   \n",
       "\n",
       "                                      seperated_post  num_post  youtube  id  \\\n",
       "0  ['http://www.youtube.com/watch?v=qsXHcwe3krw, ...        50       14   0   \n",
       "1  ['I'm finding the lack of me in these posts ve...        50        1   1   \n",
       "2  ['Good one  _____   https://www.youtube.com/wa...        50        3   2   \n",
       "3  ['Dear INTP,   I enjoyed our conversation the ...        50        2   3   \n",
       "4  ['You're fired., That's another silly misconce...        50        1   4   \n",
       "\n",
       "                                          clean_post  fav_world  info  \\\n",
       "0    enfp and intj moments    sportscenter not to...          0     0   \n",
       "1  im finding the lack of me in these posts very ...          1     0   \n",
       "2  good one      of course to which i say i know ...          0     0   \n",
       "3  dear intp   i enjoyed our conversation the oth...          0     0   \n",
       "4  youre fired thats another silly misconception ...          1     0   \n",
       "\n",
       "   decision  structure  r_fav_world  r_info  r_decision  r_structure  \n",
       "0         0          1            1       1           1            0  \n",
       "1         1          0            0       1           0            1  \n",
       "2         1          0            1       1           0            1  \n",
       "3         1          1            1       1           0            0  \n",
       "4         1          1            0       1           0            0  "
      ]
     },
     "execution_count": 18,
     "metadata": {},
     "output_type": "execute_result"
    }
   ],
   "source": [
    "all_words = vectorizer.get_feature_names()\n",
    "n_words = len(all_words)\n",
    "df['fav_world'] = df['type'].apply(lambda x: 1 if x[0] == 'E' else 0)\n",
    "df['info'] = df['type'].apply(lambda x: 1 if x[1] == 'S' else 0)\n",
    "df['decision'] = df['type'].apply(lambda x: 1 if x[2] == 'T' else 0)\n",
    "df['structure'] = df['type'].apply(lambda x: 1 if x[3] == 'J' else 0)\n",
    "df['r_fav_world'] = df['type'].apply(lambda x: 1 if x[0] == 'I' else 0)\n",
    "df['r_info'] = df['type'].apply(lambda x: 1 if x[1] == 'N' else 0)\n",
    "df['r_decision'] = df['type'].apply(lambda x: 1 if x[2] == 'F' else 0)\n",
    "df['r_structure'] = df['type'].apply(lambda x: 1 if x[3] == 'P' else 0)\n",
    "df.head()"
   ]
  },
  {
   "cell_type": "code",
   "execution_count": 19,
   "metadata": {},
   "outputs": [],
   "source": [
    "X_df = pd.DataFrame.from_dict({w: X[:, i] for i, w in enumerate(all_words)})"
   ]
  },
  {
   "cell_type": "code",
   "execution_count": 20,
   "metadata": {},
   "outputs": [],
   "source": [
    "def sub_classifier(keyword):\n",
    "    y_f = df[keyword].values\n",
    "    X_f_train, X_f_test, y_f_train, y_f_test = train_test_split(X_df, y_f, stratify=y_f)\n",
    "    f_classifier = XGBClassifier()\n",
    "    print(\">>> Train classifier ... \")\n",
    "    f_classifier.fit(X_f_train, y_f_train, \n",
    "                     early_stopping_rounds = 10, \n",
    "                     eval_metric=\"logloss\", \n",
    "                     eval_set=[(X_f_test, y_f_test)], verbose=False)\n",
    "    print(\">>> Finish training\")\n",
    "    print(\"%s:\" % keyword, sum(y_f)/len(y_f))\n",
    "    print(\"Accuracy %s\" % keyword, accuracy_score(y_f_test, f_classifier.predict(X_f_test)))\n",
    "    print(\"AUC %s\" % keyword, roc_auc_score(y_f_test, f_classifier.predict_proba(X_f_test)[:,1]))\n",
    "    return f_classifier"
   ]
  },
  {
   "cell_type": "code",
   "execution_count": 21,
   "metadata": {
    "scrolled": true
   },
   "outputs": [
    {
     "name": "stdout",
     "output_type": "stream",
     "text": [
      ">>> Train classifier ... \n",
      ">>> Finish training\n",
      "fav_world: 0.2304322766570605\n",
      "Accuracy fav_world 0.7616413093591516\n",
      "AUC fav_world 0.6310820850808867\n"
     ]
    }
   ],
   "source": [
    "fav_classifier = sub_classifier('fav_world')"
   ]
  },
  {
   "cell_type": "code",
   "execution_count": 22,
   "metadata": {},
   "outputs": [],
   "source": [
    "#모델 불러오기\n",
    "# model1=pickle.load(open('./models/extro_Intro.pkl','rb'))# 외향/내향 모델\n",
    "# model2=pickle.load(open('./models/Sens_INtui.pkl','rb')) #현실/직관 모델\n",
    "# model3=pickle.load(open('./models/Think_Feel.pkl','rb')) #사고/감정 모델\n",
    "# model4=pickle.load(open('./models/Judg_Percei.pkl','rb')) #판단/인식 모델"
   ]
  },
  {
   "cell_type": "code",
   "execution_count": 23,
   "metadata": {},
   "outputs": [
    {
     "name": "stdout",
     "output_type": "stream",
     "text": [
      ">>> Train classifier ... \n",
      ">>> Finish training\n",
      "info: 0.13798270893371758\n",
      "Accuracy info 0.8607653296449977\n",
      "AUC info 0.5998309874268954\n"
     ]
    }
   ],
   "source": [
    "info_classifier = sub_classifier('info')"
   ]
  },
  {
   "cell_type": "code",
   "execution_count": 24,
   "metadata": {},
   "outputs": [
    {
     "name": "stdout",
     "output_type": "stream",
     "text": [
      ">>> Train classifier ... \n",
      ">>> Finish training\n",
      "decision: 0.4589048991354467\n",
      "Accuracy decision 0.7219917012448133\n",
      "AUC decision 0.7950883035278609\n"
     ]
    }
   ],
   "source": [
    "decision_classifier = sub_classifier('decision')"
   ]
  },
  {
   "cell_type": "code",
   "execution_count": 25,
   "metadata": {},
   "outputs": [
    {
     "name": "stdout",
     "output_type": "stream",
     "text": [
      ">>> Train classifier ... \n",
      ">>> Finish training\n",
      "structure: 0.395850144092219\n",
      "Accuracy structure 0.6007376671277086\n",
      "AUC structure 0.5921789049933796\n"
     ]
    }
   ],
   "source": [
    "str_classifier = sub_classifier('structure')"
   ]
  },
  {
   "cell_type": "code",
   "execution_count": 26,
   "metadata": {},
   "outputs": [
    {
     "data": {
      "image/png": "[encoded data removed]",
      "text/plain": [
       "<Figure size 1440x720 with 4 Axes>"
      ]
     },
     "metadata": {},
     "output_type": "display_data"
    }
   ],
   "source": [
    "rcParams['figure.figsize'] = 20, 10\n",
    "plt.subplots_adjust(wspace = 0.5)\n",
    "ax1 = plt.subplot(1, 4, 1)\n",
    "plt.pie([sum(df['fav_world']), \n",
    "         len(df['fav_world']) - sum(df['fav_world'])], \n",
    "        labels = ['Extrovert', 'Introvert'],\n",
    "        explode = (0, 0.1),\n",
    "       autopct='%1.1f%%')\n",
    "\n",
    "ax2 = plt.subplot(1, 4, 2)\n",
    "plt.pie([sum(df['info']), \n",
    "         len(df['info']) - sum(df['info'])], \n",
    "        labels = ['Sensing', 'Intuition'],\n",
    "        explode = (0, 0.1),\n",
    "       autopct='%1.1f%%')\n",
    "\n",
    "ax3 = plt.subplot(1, 4, 3)\n",
    "plt.pie([sum(df['decision']), \n",
    "         len(df['decision']) - sum(df['decision'])], \n",
    "        labels = ['Thinking', 'Feeling'],\n",
    "        explode = (0, 0.1),\n",
    "       autopct='%1.1f%%')\n",
    "\n",
    "ax4 = plt.subplot(1, 4, 4)\n",
    "plt.pie([sum(df['structure']), \n",
    "         len(df['structure']) - sum(df['structure'])], \n",
    "        labels = ['Judging', 'Perceiving'],\n",
    "        explode = (0, 0.1),\n",
    "       autopct='%1.1f%%')\n",
    "\n",
    "plt.show()"
   ]
  },
  {
   "cell_type": "code",
   "execution_count": 27,
   "metadata": {},
   "outputs": [],
   "source": [
    "# fav_classifier.get_xgb_params()"
   ]
  },
  {
   "cell_type": "code",
   "execution_count": 28,
   "metadata": {},
   "outputs": [],
   "source": [
    "#모델 저장하기\n",
    "import pickle\n",
    "model1 = './models/extro_Intro.pkl' #외향/내향 모델\n",
    "model2 = './models/Sens_INtui.pkl' #현실/직관 모델\n",
    "model3 = './models/Think_Feel.pkl' #사고/감정 모델\n",
    "model4 = './models/Judg_Percei.pkl' #판단/인식 모델\n",
    "#만들기\n",
    "pickle.dump(fav_classifier,open(model1,'wb'))\n",
    "pickle.dump(info_classifier,open(model2,'wb'))\n",
    "pickle.dump(decision_classifier,open(model3,'wb'))\n",
    "pickle.dump(str_classifier,open(model4,'wb'))\n",
    "model1=pickle.load(open('./models/extro_Intro.pkl','rb'))# 외향/내향 모델\n",
    "model2=pickle.load(open('./models/Sens_INtui.pkl','rb')) #현실/직관 모델\n",
    "model3=pickle.load(open('./models/Think_Feel.pkl','rb')) #사고/감정 모델\n",
    "model4=pickle.load(open('./models/Judg_Percei.pkl','rb')) #판단/인식 모델"
   ]
  },
  {
   "cell_type": "code",
   "execution_count": 29,
   "metadata": {},
   "outputs": [],
   "source": [
    "import pickle\n",
    "model1 = './models/extro_Intro.pkl' #외향/내향 모델\n",
    "pickle.dump(fav_classifier,open(model1,'wb'))\n",
    "model1=pickle.load(open('./models/extro_Intro.pkl','rb'))# 외향/내향 모델"
   ]
  },
  {
   "cell_type": "code",
   "execution_count": 30,
   "metadata": {},
   "outputs": [],
   "source": [
    "params = {\n",
    "        'min_child_weight': [1, 5],\n",
    "        'gamma': [0.5, 1, 1.5, 2],\n",
    "        'subsample': [0.6, 0.8, 1.0],\n",
    "        'colsample_bytree': [0.6, 0.8, 1.0],\n",
    "        'max_depth': [3, 5, 7]\n",
    "        }"
   ]
  },
  {
   "cell_type": "code",
   "execution_count": 31,
   "metadata": {},
   "outputs": [],
   "source": [
    "# plot_importance(fav_classifier, max_num_features = 10)\n",
    "# plt.title(\"Features associated with Extrovert\")\n",
    "# plt.show()\n",
    "# plot_importance(info_classifier, max_num_features = 10)\n",
    "# plt.title(\"Features associated with Extrovert\")\n",
    "# plt.show()\n",
    "# plot_importance(decision_classifier, max_num_features = 10)\n",
    "# plt.title(\"Features associated with Extrovert\")\n",
    "# plt.show()\n",
    "# plot_importance(str_classifier, max_num_features = 10)\n",
    "# plt.title(\"Features associated with Extrovert\")\n",
    "# plt.show()"
   ]
  },
  {
   "cell_type": "code",
   "execution_count": 32,
   "metadata": {},
   "outputs": [],
   "source": [
    "EI_imprt=model1.get_booster().get_score(importance_type='weight')\n",
    "SN_imprt=model2.get_booster().get_score(importance_type='weight')\n",
    "TF_imprt=model3.get_booster().get_score(importance_type='weight')\n",
    "JP_imprt=model4.get_booster().get_score(importance_type='weight')"
   ]
  },
  {
   "cell_type": "code",
   "execution_count": 33,
   "metadata": {},
   "outputs": [],
   "source": [
    "EI_imprt_tuple = sorted(EI_imprt.items(),reverse=True,key=lambda item:item[1])\n",
    "SN_imprt_tuple = sorted(SN_imprt.items(),reverse=True,key=lambda item:item[1])\n",
    "TF_imprt_tuple = sorted(TF_imprt.items(),reverse=True,key=lambda item:item[1])\n",
    "JP_imprt_tuple = sorted(JP_imprt.items(),reverse=True,key=lambda item:item[1])"
   ]
  },
  {
   "cell_type": "code",
   "execution_count": 34,
   "metadata": {},
   "outputs": [],
   "source": [
    "def list_mk(self):\n",
    "    list = []\n",
    "    for i in self:\n",
    "        list.append(i[0])\n",
    "    return list"
   ]
  },
  {
   "cell_type": "code",
   "execution_count": 35,
   "metadata": {},
   "outputs": [],
   "source": [
    "EI_keyword_list = list_mk(EI_imprt_tuple[0:10])\n",
    "SN_keyword_list = list_mk(SN_imprt_tuple[0:10])\n",
    "TF_keyword_list = list_mk(TF_imprt_tuple[0:10])\n",
    "JP_keyword_list = list_mk(JP_imprt_tuple[0:10])"
   ]
  },
  {
   "cell_type": "code",
   "execution_count": 36,
   "metadata": {},
   "outputs": [
    {
     "data": {
      "text/plain": [
       "['fun',\n",
       " 'yourself',\n",
       " 'friends',\n",
       " 'guys',\n",
       " 'family',\n",
       " 'personality',\n",
       " 'myself',\n",
       " 'could',\n",
       " 'here',\n",
       " 'thread']"
      ]
     },
     "execution_count": 36,
     "metadata": {},
     "output_type": "execute_result"
    }
   ],
   "source": [
    "EI_keyword_list"
   ]
  },
  {
   "cell_type": "code",
   "execution_count": 37,
   "metadata": {},
   "outputs": [
    {
     "data": {
      "text/plain": [
       "['world',\n",
       " 'work',\n",
       " 'fun',\n",
       " 'were',\n",
       " 'person',\n",
       " 'looking',\n",
       " 'could',\n",
       " 'human',\n",
       " 'maybe',\n",
       " 'wont']"
      ]
     },
     "execution_count": 37,
     "metadata": {},
     "output_type": "execute_result"
    }
   ],
   "source": [
    "SN_keyword_list"
   ]
  },
  {
   "cell_type": "code",
   "execution_count": 38,
   "metadata": {},
   "outputs": [
    {
     "data": {
      "text/plain": [
       "['love',\n",
       " 'why',\n",
       " 'thank',\n",
       " 'relate',\n",
       " 'point',\n",
       " 'off',\n",
       " 'feeling',\n",
       " 'values',\n",
       " 'use',\n",
       " 'help']"
      ]
     },
     "execution_count": 38,
     "metadata": {},
     "output_type": "execute_result"
    }
   ],
   "source": [
    "TF_keyword_list"
   ]
  },
  {
   "cell_type": "code",
   "execution_count": 39,
   "metadata": {},
   "outputs": [
    {
     "data": {
      "text/plain": [
       "['love',\n",
       " 'able',\n",
       " 'will',\n",
       " 'music',\n",
       " 'trust',\n",
       " 'theres',\n",
       " 'hello',\n",
       " 'fun',\n",
       " 'best',\n",
       " 'control']"
      ]
     },
     "execution_count": 39,
     "metadata": {},
     "output_type": "execute_result"
    }
   ],
   "source": [
    "JP_keyword_list"
   ]
  }
 ],
 "metadata": {
  "kernelspec": {
   "display_name": "Python 3.7.6 64-bit ('AI': conda)",
   "language": "python",
   "name": "python37664bitaiconda207fa13933d849d393fecb29f4c46e79"
  },
  "language_info": {
   "codemirror_mode": {
    "name": "ipython",
    "version": 3
   },
   "file_extension": ".py",
   "mimetype": "text/x-python",
   "name": "python",
   "nbconvert_exporter": "python",
   "pygments_lexer": "ipython3",
   "version": "3.7.6"
  }
 },
 "nbformat": 4,
 "nbformat_minor": 4
}
